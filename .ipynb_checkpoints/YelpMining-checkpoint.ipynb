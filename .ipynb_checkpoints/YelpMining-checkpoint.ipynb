{
 "cells": [
  {
   "cell_type": "code",
   "execution_count": 1,
   "metadata": {},
   "outputs": [],
   "source": [
    "#Learning how to get the stores within a particular category\n",
    "#Making a list of bookstores in NYX\n",
    "#Common Libraries\n",
    "import requests \n",
    "import json"
   ]
  },
  {
   "cell_type": "code",
   "execution_count": 2,
   "metadata": {},
   "outputs": [],
   "source": [
    "#Required info\n",
    "#the API\n",
    "api_key = #'Add api key here'\n",
    "headers = {'Authorization': 'Bearer %s' % api_key}"
   ]
  },
  {
   "cell_type": "code",
   "execution_count": 3,
   "metadata": {},
   "outputs": [],
   "source": [
    "#The link\n",
    "url = 'https://api.yelp.com/v3/businesses/search'"
   ]
  },
  {
   "cell_type": "code",
   "execution_count": 4,
   "metadata": {},
   "outputs": [],
   "source": [
    "#setting up the parameters\n",
    "params = {'term':'bookstores',\n",
    "        'location':'New York City'}"
   ]
  },
  {
   "cell_type": "code",
   "execution_count": 5,
   "metadata": {},
   "outputs": [],
   "source": [
    "#making the requests\n",
    "req=requests.get(url, params=params, headers=headers)"
   ]
  },
  {
   "cell_type": "code",
   "execution_count": 6,
   "metadata": {},
   "outputs": [],
   "source": [
    "#Convert the data into a json object\n",
    "parsed = json.loads(req.text)\n",
    "businesses = parsed['businesses']"
   ]
  },
  {
   "cell_type": "code",
   "execution_count": 7,
   "metadata": {},
   "outputs": [
    {
     "name": "stdout",
     "output_type": "stream",
     "text": [
      "Name: Strand Bookstore\n",
      "Rating: 4.5\n",
      "Address: 828 Broadway New York, NY 10003\n",
      "Phone +12124731452\n",
      "\n",
      "\n",
      "Name: McNally Jackson\n",
      "Rating: 4.5\n",
      "Address: 52 Prince St New York, NY 10012\n",
      "Phone +12122741160\n",
      "\n",
      "\n",
      "Name: Greenlight Bookstore\n",
      "Rating: 4.0\n",
      "Address: 686 Fulton St Brooklyn, NY 11217\n",
      "Phone +17182460200\n",
      "\n",
      "\n",
      "Name: Three Lives & Company\n",
      "Rating: 4.5\n",
      "Address: 154 W 10th St New York, NY 10014\n",
      "Phone +12127412069\n",
      "\n",
      "\n",
      "Name: Bluestockings\n",
      "Rating: 4.5\n",
      "Address: 172 Allen St New York, NY 10002\n",
      "Phone +12127776028\n",
      "\n",
      "\n",
      "Name: WORD\n",
      "Rating: 4.5\n",
      "Address: 126 Franklin St Brooklyn, NY 11222\n",
      "Phone +17183830096\n",
      "\n",
      "\n",
      "Name: The Mysterious Bookshop\n",
      "Rating: 4.5\n",
      "Address: 58 Warren St New York, NY 10007\n",
      "Phone +12125871011\n",
      "\n",
      "\n",
      "Name: Spoonbill & Sugartown Booksellers\n",
      "Rating: 3.5\n",
      "Address: 218 Bedford Ave Brooklyn, NY 11211\n",
      "Phone +17183877322\n",
      "\n",
      "\n",
      "Name: Astoria Bookshop\n",
      "Rating: 4.5\n",
      "Address: 31-29 31st St Astoria, NY 11102\n",
      "Phone +17182782665\n",
      "\n",
      "\n",
      "Name: McNally Jackson\n",
      "Rating: 5.0\n",
      "Address: 76 N 4th St Unit G Brooklyn, NY 11249\n",
      "Phone +17183870115\n",
      "\n",
      "\n",
      "Name: Community Bookstore\n",
      "Rating: 4.0\n",
      "Address: 143 7th Ave Brooklyn, NY 11215\n",
      "Phone +17187833075\n",
      "\n",
      "\n",
      "Name: Book Thug Nation\n",
      "Rating: 4.0\n",
      "Address: 100 N 3rd St Brooklyn, NY 11211\n",
      "Phone \n",
      "\n",
      "\n",
      "Name: The Powerhouse Arena\n",
      "Rating: 4.0\n",
      "Address: 28 Adams St Brooklyn, NY 11201\n",
      "Phone +17186663049\n",
      "\n",
      "\n",
      "Name: Housing Works Bookstore Café\n",
      "Rating: 4.5\n",
      "Address: 126 Crosby St New York, NY 10012\n",
      "Phone +12123343324\n",
      "\n",
      "\n",
      "Name: Books Are Magic\n",
      "Rating: 4.5\n",
      "Address: 225 Smith St Brooklyn, NY 11231\n",
      "Phone +17182462665\n",
      "\n",
      "\n",
      "Name: Unnameable Books\n",
      "Rating: 4.0\n",
      "Address: 600 Vanderbilt Ave Brooklyn, NY 11238\n",
      "Phone +17187891534\n",
      "\n",
      "\n",
      "Name: East Village Books\n",
      "Rating: 3.5\n",
      "Address: 99 St Marks Pl New York, NY 10009\n",
      "Phone +12124778647\n",
      "\n",
      "\n",
      "Name: Molasses Books\n",
      "Rating: 4.5\n",
      "Address: 770 Hart St Brooklyn, NY 11237\n",
      "Phone \n",
      "\n",
      "\n",
      "Name: Kew & Willow Books\n",
      "Rating: 5.0\n",
      "Address: 8163 Lefferts Blvd Kew Gardens, NY 11415\n",
      "Phone +17184410009\n",
      "\n",
      "\n",
      "Name: Barnes & Noble Booksellers\n",
      "Rating: 3.5\n",
      "Address: 555 5th Ave New York, NY 10017\n",
      "Phone +12126973048\n",
      "\n",
      "\n"
     ]
    }
   ],
   "source": [
    "#Printing every bookstore in NYC\n",
    "for business in businesses:\n",
    "    print('Name:', business['name'])\n",
    "    print('Rating:', business['rating'])\n",
    "    print('Address:', \" \".join(business['location']['display_address']))\n",
    "    print('Phone', business['phone'])\n",
    "    print('\\n')"
   ]
  },
  {
   "cell_type": "code",
   "execution_count": null,
   "metadata": {},
   "outputs": [],
   "source": []
  }
 ],
 "metadata": {
  "kernelspec": {
   "display_name": "Python 3",
   "language": "python",
   "name": "python3"
  },
  "language_info": {
   "codemirror_mode": {
    "name": "ipython",
    "version": 3
   },
   "file_extension": ".py",
   "mimetype": "text/x-python",
   "name": "python",
   "nbconvert_exporter": "python",
   "pygments_lexer": "ipython3",
   "version": "3.7.3"
  }
 },
 "nbformat": 4,
 "nbformat_minor": 2
}
